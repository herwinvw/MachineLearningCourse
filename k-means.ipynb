{
 "cells": [
  {
   "cell_type": "markdown",
   "metadata": {},
   "source": [
    "# Machine learning assignment 4: k-means Cluster Analysis"
   ]
  },
  {
   "cell_type": "markdown",
   "metadata": {},
   "source": [
    "## Summary\n",
    "I am using the bike sharing dataset of https://archive.ics.uci.edu/ml/datasets/Bike+Sharing+Dataset, which provides data on how many bikes are rent out on specific hours of specific days, the weather on these days, whether the day was a weekday or not, etc. I would like to predict how many bikes are rent out. For this assignment, I am identifying subgroups of weather situations, based on their simularity in temperature, windspeed and humidity. All clustering variables were standardized to have a mean of 0 and a standard deviation of 1. \n",
    "\n",
    "Data were randomly split into a training set that included 70% of the observations and a test set that included 30% of the observations. A series of k-means cluster analyses were conducted on the training data specifying k=1-9 clusters, using Euclidean distance. The average distance of observations to their clusters' center was plotted for each of the nine cluster solutions in an elbow curve to provide guidance for choosing the number of clusters to interpret. The elbow curve was inconclusive, suggesting that the 3,4,6-cluster solutions might be interpreted. The results below are for an interpretation of the 3-cluster solution. Canonical discriminant analyses was used to reduce the 3 clustering variable down to a few variables that accounted for most of the variance in the clustering variables. A scatterplot of the first two canonical variables by cluster (see below) indicated that the observations in the clusters are densely packed and do not overlap much. The means of the clustering variables show that cluster 2 has the highest temperature, followed by cluster 1 and 0. Humidity is highest in cluster 1, followed by cluster 2 and 0. Windspeeds are highest in cluster 0, followed by cluster 2 and then cluster 1.\n",
    "\n",
    "In order to externally validate the clusters, I analyse their association with the annotated weathersituation (weathersit) and the season in which the observation is made (season). Cluster 1 captures the worst weather and is associated mostly with Fall and Spring. Cluster 0 captures better weather and is mostly associated with Winter and Fall. Cluster 2 captures the best weather and is associated mostly with Summer and Spring.\n",
    "I conducted Chi^2 tests to analyze this associations in more detail. These tests show all pairs of clusters are significantly different in the proportion of seasons for all pairs of seasons and that all pairs of clusters are significantly different in the proportion of assigned weather situations for all pairs of weathersituations."
   ]
  },
  {
   "cell_type": "markdown",
   "metadata": {},
   "source": [
    "## Loading data"
   ]
  },
  {
   "cell_type": "code",
   "execution_count": 56,
   "metadata": {
    "collapsed": false
   },
   "outputs": [
    {
     "name": "stdout",
     "output_type": "stream",
     "text": [
      "Number of observations:  17379\n"
     ]
    },
    {
     "data": {
      "text/html": [
       "<div>\n",
       "<table border=\"1\" class=\"dataframe\">\n",
       "  <thead>\n",
       "    <tr style=\"text-align: right;\">\n",
       "      <th></th>\n",
       "      <th>instant</th>\n",
       "      <th>dteday</th>\n",
       "      <th>season</th>\n",
       "      <th>yr</th>\n",
       "      <th>mnth</th>\n",
       "      <th>hr</th>\n",
       "      <th>holiday</th>\n",
       "      <th>weekday</th>\n",
       "      <th>workingday</th>\n",
       "      <th>weathersit</th>\n",
       "      <th>temp</th>\n",
       "      <th>atemp</th>\n",
       "      <th>hum</th>\n",
       "      <th>windspeed</th>\n",
       "      <th>casual</th>\n",
       "      <th>registered</th>\n",
       "      <th>cnt</th>\n",
       "    </tr>\n",
       "  </thead>\n",
       "  <tbody>\n",
       "    <tr>\n",
       "      <th>0</th>\n",
       "      <td>1</td>\n",
       "      <td>2011-01-01</td>\n",
       "      <td>1</td>\n",
       "      <td>0</td>\n",
       "      <td>1</td>\n",
       "      <td>0</td>\n",
       "      <td>0</td>\n",
       "      <td>6</td>\n",
       "      <td>0</td>\n",
       "      <td>1</td>\n",
       "      <td>0.24</td>\n",
       "      <td>0.2879</td>\n",
       "      <td>0.81</td>\n",
       "      <td>0.0</td>\n",
       "      <td>3</td>\n",
       "      <td>13</td>\n",
       "      <td>16</td>\n",
       "    </tr>\n",
       "    <tr>\n",
       "      <th>1</th>\n",
       "      <td>2</td>\n",
       "      <td>2011-01-01</td>\n",
       "      <td>1</td>\n",
       "      <td>0</td>\n",
       "      <td>1</td>\n",
       "      <td>1</td>\n",
       "      <td>0</td>\n",
       "      <td>6</td>\n",
       "      <td>0</td>\n",
       "      <td>1</td>\n",
       "      <td>0.22</td>\n",
       "      <td>0.2727</td>\n",
       "      <td>0.80</td>\n",
       "      <td>0.0</td>\n",
       "      <td>8</td>\n",
       "      <td>32</td>\n",
       "      <td>40</td>\n",
       "    </tr>\n",
       "    <tr>\n",
       "      <th>2</th>\n",
       "      <td>3</td>\n",
       "      <td>2011-01-01</td>\n",
       "      <td>1</td>\n",
       "      <td>0</td>\n",
       "      <td>1</td>\n",
       "      <td>2</td>\n",
       "      <td>0</td>\n",
       "      <td>6</td>\n",
       "      <td>0</td>\n",
       "      <td>1</td>\n",
       "      <td>0.22</td>\n",
       "      <td>0.2727</td>\n",
       "      <td>0.80</td>\n",
       "      <td>0.0</td>\n",
       "      <td>5</td>\n",
       "      <td>27</td>\n",
       "      <td>32</td>\n",
       "    </tr>\n",
       "    <tr>\n",
       "      <th>3</th>\n",
       "      <td>4</td>\n",
       "      <td>2011-01-01</td>\n",
       "      <td>1</td>\n",
       "      <td>0</td>\n",
       "      <td>1</td>\n",
       "      <td>3</td>\n",
       "      <td>0</td>\n",
       "      <td>6</td>\n",
       "      <td>0</td>\n",
       "      <td>1</td>\n",
       "      <td>0.24</td>\n",
       "      <td>0.2879</td>\n",
       "      <td>0.75</td>\n",
       "      <td>0.0</td>\n",
       "      <td>3</td>\n",
       "      <td>10</td>\n",
       "      <td>13</td>\n",
       "    </tr>\n",
       "    <tr>\n",
       "      <th>4</th>\n",
       "      <td>5</td>\n",
       "      <td>2011-01-01</td>\n",
       "      <td>1</td>\n",
       "      <td>0</td>\n",
       "      <td>1</td>\n",
       "      <td>4</td>\n",
       "      <td>0</td>\n",
       "      <td>6</td>\n",
       "      <td>0</td>\n",
       "      <td>1</td>\n",
       "      <td>0.24</td>\n",
       "      <td>0.2879</td>\n",
       "      <td>0.75</td>\n",
       "      <td>0.0</td>\n",
       "      <td>0</td>\n",
       "      <td>1</td>\n",
       "      <td>1</td>\n",
       "    </tr>\n",
       "  </tbody>\n",
       "</table>\n",
       "</div>"
      ],
      "text/plain": [
       "   instant      dteday  season  yr  mnth  hr  holiday  weekday  workingday  \\\n",
       "0        1  2011-01-01       1   0     1   0        0        6           0   \n",
       "1        2  2011-01-01       1   0     1   1        0        6           0   \n",
       "2        3  2011-01-01       1   0     1   2        0        6           0   \n",
       "3        4  2011-01-01       1   0     1   3        0        6           0   \n",
       "4        5  2011-01-01       1   0     1   4        0        6           0   \n",
       "\n",
       "   weathersit  temp   atemp   hum  windspeed  casual  registered  cnt  \n",
       "0           1  0.24  0.2879  0.81        0.0       3          13   16  \n",
       "1           1  0.22  0.2727  0.80        0.0       8          32   40  \n",
       "2           1  0.22  0.2727  0.80        0.0       5          27   32  \n",
       "3           1  0.24  0.2879  0.75        0.0       3          10   13  \n",
       "4           1  0.24  0.2879  0.75        0.0       0           1    1  "
      ]
     },
     "execution_count": 56,
     "metadata": {},
     "output_type": "execute_result"
    }
   ],
   "source": [
    "%matplotlib inline\n",
    "import numpy\n",
    "import pandas\n",
    "from pandas import Series, DataFrame\n",
    "from sklearn import preprocessing\n",
    "from sklearn.cluster import KMeans\n",
    "\n",
    "data = pandas.read_csv('hour.csv', low_memory=False)\n",
    "print(\"Number of observations: \", len(data))\n",
    "data.head()"
   ]
  },
  {
   "cell_type": "markdown",
   "metadata": {},
   "source": [
    "## Managing data\n",
    "Selecting relevant variables"
   ]
  },
  {
   "cell_type": "code",
   "execution_count": 57,
   "metadata": {
    "collapsed": false
   },
   "outputs": [],
   "source": [
    "seasmap = {1: '1. Winter', 2:'2. Spring', 3:'3. Summer', 4:'4. Fall'}\n",
    "data['season'] = data['season'].map(seasmap)\n",
    "selected_vars = ['temp','hum','windspeed']\n",
    "cluster = data[selected_vars].copy()"
   ]
  },
  {
   "cell_type": "markdown",
   "metadata": {},
   "source": [
    "### Standardize variables to have mean = 0 and sd = 1"
   ]
  },
  {
   "cell_type": "code",
   "execution_count": 58,
   "metadata": {
    "collapsed": true
   },
   "outputs": [],
   "source": [
    "for i in selected_vars:\n",
    "    cluster[i] = preprocessing.scale(cluster[i].astype('float64'))"
   ]
  },
  {
   "cell_type": "markdown",
   "metadata": {},
   "source": [
    "## Learning the model"
   ]
  },
  {
   "cell_type": "code",
   "execution_count": 59,
   "metadata": {
    "collapsed": false
   },
   "outputs": [],
   "source": [
    "from sklearn.cross_validation import train_test_split\n",
    "clus_train, clus_test = train_test_split(cluster, test_size=.3, random_state=123)"
   ]
  },
  {
   "cell_type": "code",
   "execution_count": 60,
   "metadata": {
    "collapsed": false
   },
   "outputs": [],
   "source": [
    "from scipy.spatial.distance import cdist\n",
    "clusters=range(1,10)\n",
    "meandist=[]\n",
    "\n",
    "for k in clusters:\n",
    "    model=KMeans(n_clusters=k,random_state=123)\n",
    "    model.fit(clus_train)\n",
    "    clusassign=model.predict(clus_train)\n",
    "    meandist.append(numpy.mean(numpy.min(cdist(clus_train, model.cluster_centers_, 'euclidean'), axis=1)))"
   ]
  },
  {
   "cell_type": "code",
   "execution_count": 61,
   "metadata": {
    "collapsed": false
   },
   "outputs": [
    {
     "data": {
      "image/png": "[encoded data removed]",
      "text/plain": [
       "<matplotlib.figure.Figure at 0xb390b00>"
      ]
     },
     "metadata": {},
     "output_type": "display_data"
    }
   ],
   "source": [
    "import matplotlib.pylab as plt\n",
    "plt.plot(clusters, meandist)\n",
    "plt.xlabel('Number of clusters')\n",
    "plt.ylabel('Average distance')\n",
    "plt.title('Selecting k with the Elbow Method');"
   ]
  },
  {
   "cell_type": "code",
   "execution_count": 62,
   "metadata": {
    "collapsed": true
   },
   "outputs": [],
   "source": [
    "model3=KMeans(n_clusters=3,random_state=123)\n",
    "model3.fit(clus_train)\n",
    "clusassign=model3.predict(clus_train)"
   ]
  },
  {
   "cell_type": "code",
   "execution_count": 63,
   "metadata": {
    "collapsed": false
   },
   "outputs": [
    {
     "data": {
      "image/png": "[encoded data removed]",
      "text/plain": [
       "<matplotlib.figure.Figure at 0xb78a828>"
      ]
     },
     "metadata": {},
     "output_type": "display_data"
    }
   ],
   "source": [
    "from sklearn.decomposition import PCA\n",
    "pca_2 = PCA(2)\n",
    "plot_columns = pca_2.fit_transform(clus_train)\n",
    "plt.scatter(x=plot_columns[:,0], y=plot_columns[:,1], c=model3.labels_,)\n",
    "plt.xlabel('Canonical variable 1')\n",
    "plt.ylabel('Canonical variable 2')\n",
    "plt.title('Scatterplot of Canonical Variables for 3 Clusters')\n",
    "plt.show()"
   ]
  },
  {
   "cell_type": "code",
   "execution_count": 64,
   "metadata": {
    "collapsed": false
   },
   "outputs": [],
   "source": [
    "clus_train.reset_index(level=0, inplace=True)"
   ]
  },
  {
   "cell_type": "code",
   "execution_count": 65,
   "metadata": {
    "collapsed": false
   },
   "outputs": [
    {
     "data": {
      "text/html": [
       "<div>\n",
       "<table border=\"1\" class=\"dataframe\">\n",
       "  <thead>\n",
       "    <tr style=\"text-align: right;\">\n",
       "      <th></th>\n",
       "      <th>cluster</th>\n",
       "    </tr>\n",
       "  </thead>\n",
       "  <tbody>\n",
       "    <tr>\n",
       "      <th>0</th>\n",
       "      <td>1</td>\n",
       "    </tr>\n",
       "    <tr>\n",
       "      <th>1</th>\n",
       "      <td>1</td>\n",
       "    </tr>\n",
       "    <tr>\n",
       "      <th>2</th>\n",
       "      <td>1</td>\n",
       "    </tr>\n",
       "    <tr>\n",
       "      <th>3</th>\n",
       "      <td>1</td>\n",
       "    </tr>\n",
       "    <tr>\n",
       "      <th>4</th>\n",
       "      <td>1</td>\n",
       "    </tr>\n",
       "  </tbody>\n",
       "</table>\n",
       "</div>"
      ],
      "text/plain": [
       "   cluster\n",
       "0        1\n",
       "1        1\n",
       "2        1\n",
       "3        1\n",
       "4        1"
      ]
     },
     "execution_count": 65,
     "metadata": {},
     "output_type": "execute_result"
    }
   ],
   "source": [
    "cluslist=list(clus_train['index'])\n",
    "labels=list(model3.labels_)\n",
    "newlist=dict(zip(cluslist, labels))\n",
    "newclus=DataFrame.from_dict(newlist, orient='index')\n",
    "newclus.columns = ['cluster']\n",
    "newclus.head()"
   ]
  },
  {
   "cell_type": "code",
   "execution_count": 66,
   "metadata": {
    "collapsed": true
   },
   "outputs": [],
   "source": [
    "newclus.reset_index(level=0, inplace=True)"
   ]
  },
  {
   "cell_type": "code",
   "execution_count": 67,
   "metadata": {
    "collapsed": false
   },
   "outputs": [
    {
     "data": {
      "text/html": [
       "<div>\n",
       "<table border=\"1\" class=\"dataframe\">\n",
       "  <thead>\n",
       "    <tr style=\"text-align: right;\">\n",
       "      <th></th>\n",
       "      <th>index</th>\n",
       "      <th>temp</th>\n",
       "      <th>hum</th>\n",
       "      <th>windspeed</th>\n",
       "      <th>cluster</th>\n",
       "    </tr>\n",
       "  </thead>\n",
       "  <tbody>\n",
       "    <tr>\n",
       "      <th>0</th>\n",
       "      <td>1859</td>\n",
       "      <td>-0.815304</td>\n",
       "      <td>1.258375</td>\n",
       "      <td>0.519896</td>\n",
       "      <td>1</td>\n",
       "    </tr>\n",
       "    <tr>\n",
       "      <th>1</th>\n",
       "      <td>7302</td>\n",
       "      <td>-0.919172</td>\n",
       "      <td>0.169865</td>\n",
       "      <td>-1.553889</td>\n",
       "      <td>1</td>\n",
       "    </tr>\n",
       "    <tr>\n",
       "      <th>2</th>\n",
       "      <td>17094</td>\n",
       "      <td>-0.919172</td>\n",
       "      <td>0.169865</td>\n",
       "      <td>-1.553889</td>\n",
       "      <td>1</td>\n",
       "    </tr>\n",
       "    <tr>\n",
       "      <th>3</th>\n",
       "      <td>17009</td>\n",
       "      <td>-0.607566</td>\n",
       "      <td>0.999206</td>\n",
       "      <td>0.031899</td>\n",
       "      <td>1</td>\n",
       "    </tr>\n",
       "    <tr>\n",
       "      <th>4</th>\n",
       "      <td>1636</td>\n",
       "      <td>-0.295959</td>\n",
       "      <td>-1.125980</td>\n",
       "      <td>1.374096</td>\n",
       "      <td>0</td>\n",
       "    </tr>\n",
       "    <tr>\n",
       "      <th>5</th>\n",
       "      <td>7831</td>\n",
       "      <td>-0.088222</td>\n",
       "      <td>0.480868</td>\n",
       "      <td>0.519896</td>\n",
       "      <td>1</td>\n",
       "    </tr>\n",
       "    <tr>\n",
       "      <th>6</th>\n",
       "      <td>11537</td>\n",
       "      <td>0.119516</td>\n",
       "      <td>-0.400306</td>\n",
       "      <td>-0.211691</td>\n",
       "      <td>2</td>\n",
       "    </tr>\n",
       "    <tr>\n",
       "      <th>7</th>\n",
       "      <td>12655</td>\n",
       "      <td>0.950466</td>\n",
       "      <td>-1.125980</td>\n",
       "      <td>-0.699689</td>\n",
       "      <td>2</td>\n",
       "    </tr>\n",
       "    <tr>\n",
       "      <th>8</th>\n",
       "      <td>2693</td>\n",
       "      <td>0.431122</td>\n",
       "      <td>1.310209</td>\n",
       "      <td>0.764304</td>\n",
       "      <td>1</td>\n",
       "    </tr>\n",
       "    <tr>\n",
       "      <th>9</th>\n",
       "      <td>10435</td>\n",
       "      <td>0.119516</td>\n",
       "      <td>0.273533</td>\n",
       "      <td>-0.456099</td>\n",
       "      <td>1</td>\n",
       "    </tr>\n",
       "    <tr>\n",
       "      <th>10</th>\n",
       "      <td>10388</td>\n",
       "      <td>0.327253</td>\n",
       "      <td>-0.348473</td>\n",
       "      <td>-0.456099</td>\n",
       "      <td>2</td>\n",
       "    </tr>\n",
       "    <tr>\n",
       "      <th>11</th>\n",
       "      <td>4658</td>\n",
       "      <td>1.054335</td>\n",
       "      <td>0.584536</td>\n",
       "      <td>-0.456099</td>\n",
       "      <td>2</td>\n",
       "    </tr>\n",
       "    <tr>\n",
       "      <th>12</th>\n",
       "      <td>6041</td>\n",
       "      <td>0.534991</td>\n",
       "      <td>1.051040</td>\n",
       "      <td>-0.699689</td>\n",
       "      <td>1</td>\n",
       "    </tr>\n",
       "    <tr>\n",
       "      <th>13</th>\n",
       "      <td>15584</td>\n",
       "      <td>0.119516</td>\n",
       "      <td>-0.918645</td>\n",
       "      <td>0.764304</td>\n",
       "      <td>0</td>\n",
       "    </tr>\n",
       "    <tr>\n",
       "      <th>14</th>\n",
       "      <td>6014</td>\n",
       "      <td>0.327253</td>\n",
       "      <td>1.310209</td>\n",
       "      <td>-1.553889</td>\n",
       "      <td>1</td>\n",
       "    </tr>\n",
       "    <tr>\n",
       "      <th>15</th>\n",
       "      <td>295</td>\n",
       "      <td>-1.542385</td>\n",
       "      <td>-1.177814</td>\n",
       "      <td>1.130506</td>\n",
       "      <td>0</td>\n",
       "    </tr>\n",
       "    <tr>\n",
       "      <th>16</th>\n",
       "      <td>14998</td>\n",
       "      <td>0.327253</td>\n",
       "      <td>1.051040</td>\n",
       "      <td>0.764304</td>\n",
       "      <td>1</td>\n",
       "    </tr>\n",
       "    <tr>\n",
       "      <th>17</th>\n",
       "      <td>1382</td>\n",
       "      <td>-0.815304</td>\n",
       "      <td>-1.747985</td>\n",
       "      <td>2.228296</td>\n",
       "      <td>0</td>\n",
       "    </tr>\n",
       "    <tr>\n",
       "      <th>18</th>\n",
       "      <td>6710</td>\n",
       "      <td>0.223385</td>\n",
       "      <td>1.621212</td>\n",
       "      <td>1.618504</td>\n",
       "      <td>1</td>\n",
       "    </tr>\n",
       "    <tr>\n",
       "      <th>19</th>\n",
       "      <td>14264</td>\n",
       "      <td>1.365942</td>\n",
       "      <td>-0.763143</td>\n",
       "      <td>-0.699689</td>\n",
       "      <td>2</td>\n",
       "    </tr>\n",
       "  </tbody>\n",
       "</table>\n",
       "</div>"
      ],
      "text/plain": [
       "    index      temp       hum  windspeed  cluster\n",
       "0    1859 -0.815304  1.258375   0.519896        1\n",
       "1    7302 -0.919172  0.169865  -1.553889        1\n",
       "2   17094 -0.919172  0.169865  -1.553889        1\n",
       "3   17009 -0.607566  0.999206   0.031899        1\n",
       "4    1636 -0.295959 -1.125980   1.374096        0\n",
       "5    7831 -0.088222  0.480868   0.519896        1\n",
       "6   11537  0.119516 -0.400306  -0.211691        2\n",
       "7   12655  0.950466 -1.125980  -0.699689        2\n",
       "8    2693  0.431122  1.310209   0.764304        1\n",
       "9   10435  0.119516  0.273533  -0.456099        1\n",
       "10  10388  0.327253 -0.348473  -0.456099        2\n",
       "11   4658  1.054335  0.584536  -0.456099        2\n",
       "12   6041  0.534991  1.051040  -0.699689        1\n",
       "13  15584  0.119516 -0.918645   0.764304        0\n",
       "14   6014  0.327253  1.310209  -1.553889        1\n",
       "15    295 -1.542385 -1.177814   1.130506        0\n",
       "16  14998  0.327253  1.051040   0.764304        1\n",
       "17   1382 -0.815304 -1.747985   2.228296        0\n",
       "18   6710  0.223385  1.621212   1.618504        1\n",
       "19  14264  1.365942 -0.763143  -0.699689        2"
      ]
     },
     "execution_count": 67,
     "metadata": {},
     "output_type": "execute_result"
    }
   ],
   "source": [
    "merged_train=pandas.merge(clus_train, newclus, on='index')\n",
    "merged_train.head(n=20)"
   ]
  },
  {
   "cell_type": "code",
   "execution_count": 68,
   "metadata": {
    "collapsed": false
   },
   "outputs": [
    {
     "data": {
      "text/plain": [
       "1    5015\n",
       "2    3693\n",
       "0    3457\n",
       "Name: cluster, dtype: int64"
      ]
     },
     "execution_count": 68,
     "metadata": {},
     "output_type": "execute_result"
    }
   ],
   "source": [
    "merged_train.cluster.value_counts()"
   ]
  },
  {
   "cell_type": "code",
   "execution_count": 69,
   "metadata": {
    "collapsed": false
   },
   "outputs": [
    {
     "name": "stdout",
     "output_type": "stream",
     "text": [
      "Clustering variable means by cluster\n",
      "               index      temp       hum  windspeed\n",
      "cluster                                            \n",
      "0        7835.767139 -0.830597 -0.730741   0.734541\n",
      "1        8884.408574 -0.229765  0.864170  -0.555435\n",
      "2        9193.337395  1.075176 -0.505027   0.070091\n"
     ]
    }
   ],
   "source": [
    "clustergrp = merged_train.groupby('cluster').mean()\n",
    "print (\"Clustering variable means by cluster\")\n",
    "print(clustergrp)"
   ]
  },
  {
   "cell_type": "markdown",
   "metadata": {},
   "source": [
    "## Validate by weathersituation\n",
    "The dataset contains a variable weathersit which is a label for the weather situation at that observation. Values for this label are:\n",
    " * 1: Clear, Few clouds, Partly cloudy, Partly cloudy\n",
    " * 2: Mist + Cloudy, Mist + Broken clouds, Mist + Few clouds, Mist\n",
    " * 3: Light Snow, Light Rain + Thunderstorm + Scattered clouds, Light Rain + Scattered clouds\n",
    " * 4: Heavy Rain + Ice Pallets + Thunderstorm + Mist, Snow + Fog\n",
    " \n",
    "I would like to see if this weathersituation is captured by the clustering of the weather variables."
   ]
  },
  {
   "cell_type": "code",
   "execution_count": 70,
   "metadata": {
    "collapsed": false
   },
   "outputs": [],
   "source": [
    "ws_data=data[['weathersit']]\n",
    "# split ws data into train and test sets\n",
    "ws_train, ws_test = train_test_split(ws_data, test_size=.3, random_state=123)\n",
    "ws_train1=pandas.DataFrame(ws_train)\n",
    "ws_train1.reset_index(level=0, inplace=True)\n",
    "merged_train_all=pandas.merge(ws_train1, merged_train, on='index')\n",
    "sub1 = merged_train_all[['weathersit','cluster']].dropna()"
   ]
  },
  {
   "cell_type": "code",
   "execution_count": 71,
   "metadata": {
    "collapsed": false
   },
   "outputs": [
    {
     "data": {
      "text/html": [
       "<div>\n",
       "<table border=\"1\" class=\"dataframe\">\n",
       "  <thead>\n",
       "    <tr style=\"text-align: right;\">\n",
       "      <th>cluster</th>\n",
       "      <th>0</th>\n",
       "      <th>1</th>\n",
       "      <th>2</th>\n",
       "    </tr>\n",
       "    <tr>\n",
       "      <th>weathersit</th>\n",
       "      <th></th>\n",
       "      <th></th>\n",
       "      <th></th>\n",
       "    </tr>\n",
       "  </thead>\n",
       "  <tbody>\n",
       "    <tr>\n",
       "      <th>1</th>\n",
       "      <td>2543</td>\n",
       "      <td>2521</td>\n",
       "      <td>2924</td>\n",
       "    </tr>\n",
       "    <tr>\n",
       "      <th>2</th>\n",
       "      <td>761</td>\n",
       "      <td>1758</td>\n",
       "      <td>668</td>\n",
       "    </tr>\n",
       "    <tr>\n",
       "      <th>3</th>\n",
       "      <td>153</td>\n",
       "      <td>735</td>\n",
       "      <td>101</td>\n",
       "    </tr>\n",
       "    <tr>\n",
       "      <th>4</th>\n",
       "      <td>0</td>\n",
       "      <td>1</td>\n",
       "      <td>0</td>\n",
       "    </tr>\n",
       "  </tbody>\n",
       "</table>\n",
       "</div>"
      ],
      "text/plain": [
       "cluster        0     1     2\n",
       "weathersit                  \n",
       "1           2543  2521  2924\n",
       "2            761  1758   668\n",
       "3            153   735   101\n",
       "4              0     1     0"
      ]
     },
     "execution_count": 71,
     "metadata": {},
     "output_type": "execute_result"
    }
   ],
   "source": [
    "pandas.crosstab(sub1.weathersit, sub1.cluster)"
   ]
  },
  {
   "cell_type": "markdown",
   "metadata": {},
   "source": [
    "Since weathersituation 4 only occurs once in the training data, I merge it with weather situation 3."
   ]
  },
  {
   "cell_type": "code",
   "execution_count": 72,
   "metadata": {
    "collapsed": false
   },
   "outputs": [],
   "source": [
    "sub1['weathersit'] = sub1['weathersit'].map({1:1,2:2,3:3,4:3})"
   ]
  },
  {
   "cell_type": "markdown",
   "metadata": {},
   "source": [
    "The cross table then looks as follows:"
   ]
  },
  {
   "cell_type": "code",
   "execution_count": 73,
   "metadata": {
    "collapsed": false
   },
   "outputs": [
    {
     "name": "stdout",
     "output_type": "stream",
     "text": [
      "cluster        0     1     2\n",
      "weathersit                  \n",
      "1           2543  2521  2924\n",
      "2            761  1758   668\n",
      "3            153   736   101\n",
      "cluster            0         1         2\n",
      "weathersit                              \n",
      "1           0.735609  0.502692  0.791768\n",
      "2           0.220133  0.350548  0.180883\n",
      "3           0.044258  0.146760  0.027349\n"
     ]
    }
   ],
   "source": [
    "ct = pandas.crosstab(sub1.weathersit, sub1.cluster)\n",
    "print(ct)\n",
    "colsum=ct.sum(axis=0)\n",
    "colpct=ct/colsum\n",
    "print(colpct)"
   ]
  },
  {
   "cell_type": "markdown",
   "metadata": {},
   "source": [
    "It looks like the clusters are associated with weathersituation, with cluster 1 capturing the worst weather, cluster 0 capturing better weather and cluster 2 capturing the 'best' weather. I conduct a Chi^2 test to examine this closer."
   ]
  },
  {
   "cell_type": "code",
   "execution_count": 74,
   "metadata": {
    "collapsed": false
   },
   "outputs": [
    {
     "name": "stdout",
     "output_type": "stream",
     "text": [
      "chi-square value, p value, expected counts\n"
     ]
    },
    {
     "data": {
      "text/plain": [
       "(1036.9358733542258,\n",
       " 3.5301633674731902e-223,\n",
       " 4,\n",
       " array([[ 2269.9972051 ,  3293.03904644,  2424.96374846],\n",
       "        [  905.66863954,  1313.8351829 ,   967.49617756],\n",
       "        [  281.33415536,   408.12577065,   300.54007398]]))"
      ]
     },
     "execution_count": 74,
     "metadata": {},
     "output_type": "execute_result"
    }
   ],
   "source": [
    "import scipy.stats\n",
    "print ('chi-square value, p value, expected counts')\n",
    "scipy.stats.chi2_contingency(ct)"
   ]
  },
  {
   "cell_type": "markdown",
   "metadata": {},
   "source": [
    "The Chi-square test shows that weather situation is associated with the cluster. Post hoc tests are required to show how exactly."
   ]
  },
  {
   "cell_type": "code",
   "execution_count": 75,
   "metadata": {
    "collapsed": false
   },
   "outputs": [
    {
     "name": "stdout",
     "output_type": "stream",
     "text": [
      "number of comparisons  3\n",
      "Bonferroni corrected critical p:  0.016666666666666666\n"
     ]
    },
    {
     "data": {
      "text/html": [
       "<div>\n",
       "<table border=\"1\" class=\"dataframe\">\n",
       "  <thead>\n",
       "    <tr style=\"text-align: right;\">\n",
       "      <th></th>\n",
       "      <th>0</th>\n",
       "      <th>1</th>\n",
       "      <th>2</th>\n",
       "    </tr>\n",
       "  </thead>\n",
       "  <tbody>\n",
       "    <tr>\n",
       "      <th>0</th>\n",
       "      <td>-</td>\n",
       "      <td>-</td>\n",
       "      <td>-</td>\n",
       "    </tr>\n",
       "    <tr>\n",
       "      <th>1</th>\n",
       "      <td>5.73473e-111</td>\n",
       "      <td>-</td>\n",
       "      <td>-</td>\n",
       "    </tr>\n",
       "    <tr>\n",
       "      <th>2</th>\n",
       "      <td>1.95615e-08</td>\n",
       "      <td>1.115e-178</td>\n",
       "      <td>-</td>\n",
       "    </tr>\n",
       "  </tbody>\n",
       "</table>\n",
       "</div>"
      ],
      "text/plain": [
       "              0           1  2\n",
       "0             -           -  -\n",
       "1  5.73473e-111           -  -\n",
       "2   1.95615e-08  1.115e-178  -"
      ]
     },
     "execution_count": 75,
     "metadata": {},
     "output_type": "execute_result"
    }
   ],
   "source": [
    "numcomparisons = 0\n",
    "table = pandas.DataFrame('-',index=range(0,3),columns=range(0,3))\n",
    "for i in range(0,3):\n",
    "    for j in range(i+1,3):\n",
    "        sub2 = sub1[(sub1['cluster'] == i) | (sub1['cluster'] == j)]\n",
    "        ct = pandas.crosstab(sub2.weathersit, sub2.cluster)    \n",
    "        chi2, p, dof, ex = scipy.stats.chi2_contingency(ct)\n",
    "        numcomparisons = numcomparisons+1\n",
    "        table.iloc[j,i] = p\n",
    "\n",
    "print(\"number of comparisons \",numcomparisons)\n",
    "pcritical = 0.05/numcomparisons\n",
    "print(\"Bonferroni corrected critical p: \",pcritical)\n",
    "table"
   ]
  },
  {
   "cell_type": "markdown",
   "metadata": {},
   "source": [
    "The post-hoc test shows that all pairs of clusters are significantly different in the proportion of assigned weather situations. Another posthoc test is required to show how exactly."
   ]
  },
  {
   "cell_type": "code",
   "execution_count": 76,
   "metadata": {
    "collapsed": false
   },
   "outputs": [
    {
     "name": "stdout",
     "output_type": "stream",
     "text": [
      "number of comparisons  9\n",
      "Bonferroni corrected critical p:  0.005555555555555556\n"
     ]
    },
    {
     "data": {
      "text/html": [
       "<div>\n",
       "<table border=\"1\" class=\"dataframe\">\n",
       "  <thead>\n",
       "    <tr style=\"text-align: right;\">\n",
       "      <th></th>\n",
       "      <th>cluster 0 vs 1</th>\n",
       "      <th>cluster 0 vs 2</th>\n",
       "      <th>cluster 1 vs 2</th>\n",
       "    </tr>\n",
       "  </thead>\n",
       "  <tbody>\n",
       "    <tr>\n",
       "      <th>weathersit 0,1</th>\n",
       "      <td>0</td>\n",
       "      <td>0</td>\n",
       "      <td>1.45639e-272</td>\n",
       "    </tr>\n",
       "    <tr>\n",
       "      <th>weathersit 0,2</th>\n",
       "      <td>6.82231e-164</td>\n",
       "      <td>0</td>\n",
       "      <td>1.91459e-158</td>\n",
       "    </tr>\n",
       "    <tr>\n",
       "      <th>weathersit 1,2</th>\n",
       "      <td>0</td>\n",
       "      <td>0</td>\n",
       "      <td>2.22136e-290</td>\n",
       "    </tr>\n",
       "  </tbody>\n",
       "</table>\n",
       "</div>"
      ],
      "text/plain": [
       "               cluster 0 vs 1 cluster 0 vs 2 cluster 1 vs 2\n",
       "weathersit 0,1              0              0   1.45639e-272\n",
       "weathersit 0,2   6.82231e-164              0   1.91459e-158\n",
       "weathersit 1,2              0              0   2.22136e-290"
      ]
     },
     "execution_count": 76,
     "metadata": {},
     "output_type": "execute_result"
    }
   ],
   "source": [
    "numcomparisons = 0\n",
    "colnames = []\n",
    "rownames = []\n",
    "table = pandas.DataFrame('-',index=range(0,3),columns=range(0,3))\n",
    "for cl1 in range(0,3):\n",
    "    for cl2 in range(cl1+1,3):\n",
    "        colnames.append(\"cluster \"+str(cl1)+\" vs \"+str(cl2))\n",
    "        for ws1 in range(0,3):\n",
    "            for ws2 in range(ws1+1,3):\n",
    "                rownames.append(\"weathersit \"+str(ws1)+\",\"+str(ws2))\n",
    "                sub2 = sub1[(sub1['cluster'] == cl1) | (sub1['cluster'] == cl2)|(sub1['weathersit'] == ws1) | (sub1['weathersit'] == ws2)]\n",
    "                ct = pandas.crosstab(sub2.weathersit, sub2.cluster)    \n",
    "                chi2, p, dof, ex = scipy.stats.chi2_contingency(ct)\n",
    "                numcomparisons = numcomparisons+1                \n",
    "                table.iloc[cl1+cl2-1,ws1+ws2-1] = p\n",
    "\n",
    "print(\"number of comparisons \",numcomparisons)\n",
    "pcritical = 0.05/numcomparisons\n",
    "print(\"Bonferroni corrected critical p: \",pcritical)\n",
    "table.columns = colnames\n",
    "table.index = rownames[0:3]\n",
    "table"
   ]
  },
  {
   "cell_type": "markdown",
   "metadata": {},
   "source": [
    "The final posthoc test shows that all pairs of clusters are significantly different in the proportion of assigned weather situations for all pairs of weathersituations."
   ]
  },
  {
   "cell_type": "markdown",
   "metadata": {},
   "source": [
    "## Validate by season"
   ]
  },
  {
   "cell_type": "code",
   "execution_count": 78,
   "metadata": {
    "collapsed": true
   },
   "outputs": [],
   "source": [
    "ws_data=data[['season']]\n",
    "# split ws data into train and test sets\n",
    "ws_train, ws_test = train_test_split(ws_data, test_size=.3, random_state=123)\n",
    "ws_train1=pandas.DataFrame(ws_train)\n",
    "ws_train1.reset_index(level=0, inplace=True)\n",
    "merged_train_all=pandas.merge(ws_train1, merged_train, on='index')\n",
    "sub1 = merged_train_all[['season','cluster']].dropna()"
   ]
  },
  {
   "cell_type": "code",
   "execution_count": 79,
   "metadata": {
    "collapsed": false
   },
   "outputs": [
    {
     "name": "stdout",
     "output_type": "stream",
     "text": [
      "cluster       0     1     2\n",
      "season                     \n",
      "1. Winter  1844  1101    87\n",
      "2. Spring   638  1277  1156\n",
      "3. Summer    34  1012  2099\n",
      "4. Fall     941  1625   351\n",
      "cluster           0         1         2\n",
      "season                                 \n",
      "1. Winter  0.533410  0.219541  0.023558\n",
      "2. Spring  0.184553  0.254636  0.313025\n",
      "3. Summer  0.009835  0.201795  0.568373\n",
      "4. Fall    0.272201  0.324028  0.095045\n"
     ]
    }
   ],
   "source": [
    "ct = pandas.crosstab(sub1.season, sub1.cluster)\n",
    "print(ct)\n",
    "colsum=ct.sum(axis=0)\n",
    "colpct=ct/colsum\n",
    "print(colpct)"
   ]
  },
  {
   "cell_type": "markdown",
   "metadata": {},
   "source": [
    "Cluster 1 seems to be mostly assigned to Fall and Spring, cluster 0 to Winter and Fall, cluster 2 to Summer and Spring. I conduct a Chi^2 test to examine this closer."
   ]
  },
  {
   "cell_type": "code",
   "execution_count": 80,
   "metadata": {
    "collapsed": false
   },
   "outputs": [
    {
     "name": "stdout",
     "output_type": "stream",
     "text": [
      "chi-square value, p value, expected counts\n"
     ]
    },
    {
     "data": {
      "text/plain": [
       "(4756.444683243044,\n",
       " 0.0,\n",
       " 6,\n",
       " array([[  861.62137279,  1249.93670366,   920.44192355],\n",
       "        [  872.70423346,  1266.01438553,   932.28138101],\n",
       "        [  893.73325113,  1296.52075627,   954.7459926 ],\n",
       "        [  828.94114262,  1202.52815454,   885.53070284]]))"
      ]
     },
     "execution_count": 80,
     "metadata": {},
     "output_type": "execute_result"
    }
   ],
   "source": [
    "import scipy.stats\n",
    "print ('chi-square value, p value, expected counts')\n",
    "scipy.stats.chi2_contingency(ct)"
   ]
  },
  {
   "cell_type": "markdown",
   "metadata": {},
   "source": [
    "The Chi-square test shows that season is associated with the cluster. Post hoc tests are required to show how exactly."
   ]
  },
  {
   "cell_type": "code",
   "execution_count": 81,
   "metadata": {
    "collapsed": false
   },
   "outputs": [
    {
     "name": "stdout",
     "output_type": "stream",
     "text": [
      "number of comparisons  3\n",
      "Bonferroni corrected critical p:  0.016666666666666666\n"
     ]
    },
    {
     "data": {
      "text/html": [
       "<div>\n",
       "<table border=\"1\" class=\"dataframe\">\n",
       "  <thead>\n",
       "    <tr style=\"text-align: right;\">\n",
       "      <th></th>\n",
       "      <th>0</th>\n",
       "      <th>1</th>\n",
       "      <th>2</th>\n",
       "    </tr>\n",
       "  </thead>\n",
       "  <tbody>\n",
       "    <tr>\n",
       "      <th>0</th>\n",
       "      <td>-</td>\n",
       "      <td>-</td>\n",
       "      <td>-</td>\n",
       "    </tr>\n",
       "    <tr>\n",
       "      <th>1</th>\n",
       "      <td>2.00405e-271</td>\n",
       "      <td>-</td>\n",
       "      <td>-</td>\n",
       "    </tr>\n",
       "    <tr>\n",
       "      <th>2</th>\n",
       "      <td>0</td>\n",
       "      <td>0</td>\n",
       "      <td>-</td>\n",
       "    </tr>\n",
       "  </tbody>\n",
       "</table>\n",
       "</div>"
      ],
      "text/plain": [
       "              0  1  2\n",
       "0             -  -  -\n",
       "1  2.00405e-271  -  -\n",
       "2             0  0  -"
      ]
     },
     "execution_count": 81,
     "metadata": {},
     "output_type": "execute_result"
    }
   ],
   "source": [
    "numcomparisons = 0\n",
    "table = pandas.DataFrame('-',index=range(0,3),columns=range(0,3))\n",
    "for i in range(0,3):\n",
    "    for j in range(i+1,3):\n",
    "        sub2 = sub1[(sub1['cluster'] == i) | (sub1['cluster'] == j)]\n",
    "        ct = pandas.crosstab(sub2.season, sub2.cluster)    \n",
    "        chi2, p, dof, ex = scipy.stats.chi2_contingency(ct)\n",
    "        numcomparisons = numcomparisons+1\n",
    "        table.iloc[j,i] = p\n",
    "\n",
    "print(\"number of comparisons \",numcomparisons)\n",
    "pcritical = 0.05/numcomparisons\n",
    "print(\"Bonferroni corrected critical p: \",pcritical)\n",
    "table"
   ]
  },
  {
   "cell_type": "markdown",
   "metadata": {},
   "source": [
    "The post-hoc test shows that all pairs of clusters are significantly different in the proportion of seasons. Another posthoc test is required to show how exactly."
   ]
  },
  {
   "cell_type": "code",
   "execution_count": 82,
   "metadata": {
    "collapsed": false
   },
   "outputs": [
    {
     "name": "stdout",
     "output_type": "stream",
     "text": [
      "number of comparisons  18\n",
      "Bonferroni corrected critical p:  0.002777777777777778\n"
     ]
    },
    {
     "data": {
      "text/html": [
       "<div>\n",
       "<table border=\"1\" class=\"dataframe\">\n",
       "  <thead>\n",
       "    <tr style=\"text-align: right;\">\n",
       "      <th></th>\n",
       "      <th>cluster 0 vs 1</th>\n",
       "      <th>cluster 0 vs 2</th>\n",
       "      <th>cluster 1 vs 2</th>\n",
       "    </tr>\n",
       "  </thead>\n",
       "  <tbody>\n",
       "    <tr>\n",
       "      <th>1. Winter,2. Spring</th>\n",
       "      <td>0</td>\n",
       "      <td>0</td>\n",
       "      <td>0</td>\n",
       "    </tr>\n",
       "    <tr>\n",
       "      <th>1. Winter,3. Summer</th>\n",
       "      <td>0</td>\n",
       "      <td>0</td>\n",
       "      <td>0</td>\n",
       "    </tr>\n",
       "    <tr>\n",
       "      <th>1. Winter,4. Fall</th>\n",
       "      <td>0</td>\n",
       "      <td>0</td>\n",
       "      <td>0</td>\n",
       "    </tr>\n",
       "    <tr>\n",
       "      <th>2. Spring,3. Summer</th>\n",
       "      <td>0</td>\n",
       "      <td>0</td>\n",
       "      <td>0</td>\n",
       "    </tr>\n",
       "    <tr>\n",
       "      <th>2. Spring,4. Fall</th>\n",
       "      <td>0</td>\n",
       "      <td>0</td>\n",
       "      <td>0</td>\n",
       "    </tr>\n",
       "    <tr>\n",
       "      <th>3. Summer,4. Fall</th>\n",
       "      <td>0</td>\n",
       "      <td>0</td>\n",
       "      <td>0</td>\n",
       "    </tr>\n",
       "  </tbody>\n",
       "</table>\n",
       "</div>"
      ],
      "text/plain": [
       "                    cluster 0 vs 1 cluster 0 vs 2 cluster 1 vs 2\n",
       "1. Winter,2. Spring              0              0              0\n",
       "1. Winter,3. Summer              0              0              0\n",
       "1. Winter,4. Fall                0              0              0\n",
       "2. Spring,3. Summer              0              0              0\n",
       "2. Spring,4. Fall                0              0              0\n",
       "3. Summer,4. Fall                0              0              0"
      ]
     },
     "execution_count": 82,
     "metadata": {},
     "output_type": "execute_result"
    }
   ],
   "source": [
    "numcomparisons = 0\n",
    "colnames = []\n",
    "rownames = []\n",
    "table = pandas.DataFrame('-',index=range(0,6),columns=range(0,3))\n",
    "for cl1 in range(0,3):\n",
    "    for cl2 in range(cl1+1,3):\n",
    "        colnames.append(\"cluster \"+str(cl1)+\" vs \"+str(cl2))\n",
    "        i = 0\n",
    "        for s1 in range(0,4):\n",
    "            for s2 in range(s1+1,4):\n",
    "                rownames.append(seasmap[s1+1]+\",\"+seasmap[s2+1])\n",
    "                sub2 = sub1[(sub1['cluster'] == cl1) | (sub1['cluster'] == cl2)|(sub1['season'] == seasmap[s1+1]) | (sub1['season'] == seasmap[s2+1])]\n",
    "                ct = pandas.crosstab(sub2.season, sub2.cluster)    \n",
    "                chi2, p, dof, ex = scipy.stats.chi2_contingency(ct)\n",
    "                numcomparisons = numcomparisons+1                                \n",
    "                table.iloc[i,cl1+cl2-1] = p\n",
    "                i = i+1\n",
    "\n",
    "print(\"number of comparisons \",numcomparisons)\n",
    "pcritical = 0.05/numcomparisons\n",
    "print(\"Bonferroni corrected critical p: \",pcritical)\n",
    "table.columns = colnames\n",
    "table.index = rownames[0:6]\n",
    "table"
   ]
  },
  {
   "cell_type": "markdown",
   "metadata": {},
   "source": [
    "The final posthoc test shows that all pairs of clusters are significantly different in the proportion of seasons for all pairs of seasons."
   ]
  }
 ],
 "metadata": {
  "kernelspec": {
   "display_name": "Python 3",
   "language": "python",
   "name": "python3"
  },
  "language_info": {
   "codemirror_mode": {
    "name": "ipython",
    "version": 3
   },
   "file_extension": ".py",
   "mimetype": "text/x-python",
   "name": "python",
   "nbconvert_exporter": "python",
   "pygments_lexer": "ipython3",
   "version": "3.5.1"
  }
 },
 "nbformat": 4,
 "nbformat_minor": 0
}
